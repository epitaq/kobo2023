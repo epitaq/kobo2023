{
 "cells": [
  {
   "attachments": {},
   "cell_type": "markdown",
   "metadata": {},
   "source": [
    "# 第一回レポート課題"
   ]
  },
  {
   "attachments": {},
   "cell_type": "markdown",
   "metadata": {},
   "source": [
    "1. AND回路，NAND回路，OR回路を単純パーセプトロンにより表現する関数を実装し，真理値表通り，出力されるか確認して下さい．\n",
    "関数名は各々，AND(x1, x2), NAND(x1, x2), OR(x1, x2)として，1か０を引数に取れるようにして下さい．\n",
    "2. 上記で実装した関数の組み合わせにより，XOR回路を実装し，真理値表通り，出力されるか確認して下さい．\n",
    "関数名は，XOR(x1, x2)として，，1か０を引数に取れるようにして下さい．\n",
    "\n",
    "論理演算を実装した。  \n",
    "` *_multiple_input`で複数入力を実装した。"
   ]
  },
  {
   "cell_type": "code",
   "execution_count": 10,
   "metadata": {},
   "outputs": [
    {
     "name": "stdout",
     "output_type": "stream",
     "text": [
      "(0, 0) -> 0\n",
      "(1, 0) -> 1\n",
      "(0, 1) -> 1\n",
      "(1, 1) -> 0\n",
      "[0 1 1 0]\n"
     ]
    }
   ],
   "source": [
    "import numpy as np\n",
    "\n",
    "\n",
    "def AND(x1, x2):\n",
    "    x = np.array([x1, x2])\n",
    "    w = np.array([0.5, 0.5])\n",
    "    b = -0.7\n",
    "    y = np.sum(w*x) + b\n",
    "    return np.where(y >= 0, 1, 0)\n",
    "\n",
    "def AND_multiple_input(x1, x2):\n",
    "    x = np.array([x1, x2]).T\n",
    "    w = np.array([0.5, 0.5])\n",
    "    b = -0.7\n",
    "    y = np.sum(w*x, axis=1) + b\n",
    "    return np.where(y >= 0, 1, 0)\n",
    "\n",
    "\n",
    "def NAND(x1, x2):\n",
    "    x = np.array([x1, x2])\n",
    "    w = np.array([-0.5, -0.5])\n",
    "    b = 0.7\n",
    "    y = np.sum(w*x) + b\n",
    "    return np.where(y >= 0, 1, 0)\n",
    "\n",
    "def NAND_multiple_input(x1, x2):\n",
    "    x = np.array([x1, x2]).T\n",
    "    w = np.array([-0.5, -0.5])\n",
    "    b = 0.7\n",
    "    y = np.sum(w*x, axis=1) + b\n",
    "    return np.where(y >= 0, 1, 0)\n",
    "\n",
    "\n",
    "def OR(x1, x2):\n",
    "    x = np.array([x1, x2])\n",
    "    w = np.array([0.5, 0.5])\n",
    "    b = -0.3\n",
    "    y = np.sum(w*x) + b\n",
    "    return np.where(y >= 0, 1, 0)\n",
    "\n",
    "def OR_multiple_input(x1, x2):\n",
    "    x = np.array([x1, x2]).T\n",
    "    w = np.array([0.5, 0.5])\n",
    "    b = -0.3\n",
    "    y = np.sum(w*x, axis=1) + b\n",
    "    return np.where(y >= 0, 1, 0)\n",
    "\n",
    "\n",
    "def XOR(x1, x2):\n",
    "    s1 = NAND(x1, x2)\n",
    "    s2 = OR(x1, x2)\n",
    "    return AND(s1, s2)\n",
    "\n",
    "def XOR_multiple_input(x1, x2):\n",
    "    s1 = NAND_multiple_input(x1, x2)\n",
    "    s2 = OR_multiple_input(x1, x2)\n",
    "    return AND_multiple_input(s1, s2)\n",
    "\n",
    "if __name__ == '__main__':\n",
    "    for xs in [(0, 0), (1, 0), (0, 1), (1, 1)]:\n",
    "        out = XOR(xs[0], xs[1])\n",
    "        print(str(xs) + \" -> \" + str(out))\n",
    "\n",
    "    # 複数入力\n",
    "    print(XOR_multiple_input([0, 1, 0, 1], [0, 0, 1, 1]))"
   ]
  },
  {
   "attachments": {},
   "cell_type": "markdown",
   "metadata": {},
   "source": [
    "3. 活性化関数であるSigmoid関数とSoftmax関数をpythonで実装して下さい．Sigmoid関数は次の課題でそのまま使用するので、Numpyを入力としてください"
   ]
  },
  {
   "cell_type": "code",
   "execution_count": 11,
   "metadata": {},
   "outputs": [
    {
     "name": "stdout",
     "output_type": "stream",
     "text": [
      "0.9820137900379085\n",
      "[0.09003057 0.24472847 0.66524096]\n"
     ]
    }
   ],
   "source": [
    "def sigmoid(a):\n",
    "    return 1/(1 + np.power(np.e, -a))\n",
    "\n",
    "def softmax(x):\n",
    "    exp_x = np.exp(x)\n",
    "    return exp_x / np.sum(exp_x)\n",
    "\n",
    "if __name__ == '__main__':\n",
    "    print(sigmoid(np.int64(4)))\n",
    "    print(softmax(np.array([1, 2, 3])))"
   ]
  },
  {
   "attachments": {},
   "cell_type": "markdown",
   "metadata": {},
   "source": [
    "4. 3層マルチパーセプトロンによるNNの実装を行い、出力が正しいか確認してください．下記のサンプルコードにおけるforward部分を実装してみてください. 中間層の活性化関数にはSigmoid関数、出力層の関数にはSoftmax関数を使ってください。"
   ]
  },
  {
   "cell_type": "code",
   "execution_count": 12,
   "metadata": {},
   "outputs": [
    {
     "name": "stdout",
     "output_type": "stream",
     "text": [
      "[[0.47781171 0.52218829]]\n"
     ]
    }
   ],
   "source": [
    "def init_network():\n",
    "    network={}\n",
    "    network['W1'] = np.array([[0.1, 0.3, 0.5], [0.2, 0.4, 0.6]])\n",
    "    network['b1'] = np.array([[0.1, 0.2, 0.3]])\n",
    "    network['W2'] = np.array([[0.1, 0.4], [0.2, 0.5], [0.3, 0.6]])\n",
    "    network['b2'] = np.array([[0.1, 0.2]])\n",
    "    network['W3'] = np.array([[0.1, 0.3], [0.2, 0.4]])\n",
    "    network['b3'] = np.array([[0.1, 0.2]])\n",
    "    return network\n",
    "\n",
    "def forward(network, x):\n",
    "    W1, W2, W3 = network['W1'], network['W2'], network['W3']\n",
    "    b1, b2, b3 = network['b1'], network['b2'], network['b3']\n",
    "    \n",
    "    # layer 1\n",
    "    a1=np.dot(x,W1)+b1\n",
    "    z1=sigmoid(a1)\n",
    "    # layer2 layer3を実装してみてください    \n",
    "    #layer2 \n",
    "    a2=np.dot(z1, W2) + b2\n",
    "    z2=sigmoid(a2)\n",
    "    #layer3\n",
    "    a3=np.dot(z2, W3) + b3\n",
    "    z3=sigmoid(a3)\n",
    "    \n",
    "    y=softmax(z3)\n",
    "    \n",
    "    \n",
    "    return y\n",
    "\n",
    "network = init_network()\n",
    "x=np.array([1.0,0.5])\n",
    "y=forward(network,x)\n",
    "print(y) #[0.40625907, 0.59374093]"
   ]
  },
  {
   "attachments": {},
   "cell_type": "markdown",
   "metadata": {},
   "source": [
    "5. バッチ処理の行い方についてサンプルコードを実行し、扱い方のイメージを掴んでください．"
   ]
  },
  {
   "cell_type": "code",
   "execution_count": null,
   "metadata": {},
   "outputs": [],
   "source": [
    "import random  \n",
    "\n",
    "network = init_network()\n",
    "batch_size = 16\n",
    "x=np.random.rand(1000,2)\n",
    "for i in range(0,len(x),batch_size):\n",
    "    x_batch = x[i:i+batch_size]\n",
    "    y_batch = forward(network,x_batch)\n",
    "    print(y_batch)"
   ]
  },
  {
   "attachments": {},
   "cell_type": "markdown",
   "metadata": {},
   "source": [
    "## 感想\n",
    "\n",
    "行列を使って示すことで非線形関数をレイヤーのたびに使うの必要性を理解できたが、なぜsigmoid関数が選ばれたのか気になる。他の関数と比較したい。"
   ]
  }
 ],
 "metadata": {
  "kernelspec": {
   "display_name": "Python 3 (ipykernel)",
   "language": "python",
   "name": "python3"
  },
  "language_info": {
   "codemirror_mode": {
    "name": "ipython",
    "version": 3
   },
   "file_extension": ".py",
   "mimetype": "text/x-python",
   "name": "python",
   "nbconvert_exporter": "python",
   "pygments_lexer": "ipython3",
   "version": "3.10.8"
  }
 },
 "nbformat": 4,
 "nbformat_minor": 4
}
